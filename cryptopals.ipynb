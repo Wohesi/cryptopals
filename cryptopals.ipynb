{
 "nbformat": 4,
 "nbformat_minor": 2,
 "metadata": {
  "language_info": {
   "name": "python",
   "codemirror_mode": {
    "name": "ipython",
    "version": 3
   },
   "version": "3.7.4-final"
  },
  "orig_nbformat": 2,
  "file_extension": ".py",
  "mimetype": "text/x-python",
  "name": "python",
  "npconvert_exporter": "python",
  "pygments_lexer": "ipython3",
  "version": 3,
  "kernelspec": {
   "name": "python37464bitbasecondacc202b9d4962406ca387a5bf09a1747a",
   "display_name": "Python 3.7.4 64-bit ('base': conda)"
  }
 },
 "cells": [
  {
   "cell_type": "code",
   "execution_count": 577,
   "metadata": {},
   "outputs": [],
   "source": [
    "# First set of the cryptopals challenges:\n",
    "# https://cryptopals.com/sets/1"
   ]
  },
  {
   "cell_type": "code",
   "execution_count": 578,
   "metadata": {},
   "outputs": [
    {
     "data": {
      "text/plain": "True"
     },
     "execution_count": 578,
     "metadata": {},
     "output_type": "execute_result"
    }
   ],
   "source": [
    "# Convert hex to base 64\n",
    "import base64\n",
    "\n",
    "ts = '49276d206b696c6c696e6720796f757220627261696e206c696b65206120706f69736f6e6f7573206d757368726f6f6d'\n",
    "\n",
    "\n",
    "def hex_to_base64(s):\n",
    "    '''\n",
    "    convert hex to base64\n",
    "    input: hex string\n",
    "    output: base64 string\n",
    "    '''\n",
    "    try:\n",
    "        decode = bytes.fromhex(s)\n",
    "        b64 = base64.b64encode(decode)\n",
    "\n",
    "        return b64.decode()\n",
    "    except Exception as e:\n",
    "        return 'not a valid strring', e\n",
    "\n",
    "# check if true:\n",
    "h = 'SSdtIGtpbGxpbmcgeW91ciBicmFpbiBsaWtlIGEgcG9pc29ub3VzIG11c2hyb29t'\n",
    "hex_to_base64(ts) == h"
   ]
  },
  {
   "cell_type": "code",
   "execution_count": 579,
   "metadata": {},
   "outputs": [
    {
     "data": {
      "text/plain": "True"
     },
     "execution_count": 579,
     "metadata": {},
     "output_type": "execute_result"
    }
   ],
   "source": [
    "# Explanation:\n",
    "#https://www.codechef.com/PRJRF14/problems/XORSN\n",
    "\n",
    "# XOR is Exlusive Or. \n",
    "\n",
    "ts1 = '1c0111001f010100061a024b53535009181c'\n",
    "ts2 = '686974207468652062756c6c277320657965'\n",
    "\n",
    "import codecs\n",
    "\n",
    "def fixed_XOR(s1, s2):\n",
    "    '''\n",
    "    input: two equal length buffers\n",
    "    output: XOR combination.\n",
    "    '''\n",
    "\n",
    "    #check if two strings are of equal length:\n",
    "    if len(s1) == len(s2):\n",
    "\n",
    "        # convert strings to int\n",
    "        s1 = bytes.fromhex(s1)\n",
    "        s2 = bytes.fromhex(s2)\n",
    "\n",
    "        # xor both strings as hex numbers\n",
    "        xord = [x^y for x,y in zip(s1, s2)]\n",
    "        sent = bytes(xord)\n",
    "\n",
    "        xord = codecs.encode(sent, 'hex')\n",
    "        return xord.decode(\"utf-8\")        \n",
    "\n",
    "    else:\n",
    "        return \"Strings are not of equal length\"\n",
    "\n",
    "\n",
    "h = '746865206b696420646f6e277420706c6179'\n",
    "\n",
    "# check if true: \n",
    "fixed_XOR(ts1, ts2) == h"
   ]
  },
  {
   "cell_type": "code",
   "execution_count": 580,
   "metadata": {},
   "outputs": [
    {
     "data": {
      "text/plain": "(0.6617030935065874, 'cOOKING\\x00mc\\x07S\\x00LIKE\\x00A\\x00POUND\\x00OF\\x00BACON')"
     },
     "execution_count": 580,
     "metadata": {},
     "output_type": "execute_result"
    }
   ],
   "source": [
    "# single byte XOR cipher\n",
    "\n",
    "# the hex encoded string:\n",
    "ts1 = '1b37373331363f78151b7f2b783431333d78397828372d363c78373e783a393b3736'\n",
    "\n",
    "# http://en.algoritmy.net/article/40379/Letter-frequency-English\n",
    "freqs = {\n",
    "'A' : 0.0834,\n",
    "'B' : 0.0154,\n",
    "'C' : 0.0273,\n",
    "'D' : 0.0414,\n",
    "'E' : 0.1260,\n",
    "'F' : 0.0203,\n",
    "'G' : 0.0192,\n",
    "'H' : 0.0611,\n",
    "'I' : 0.0671,\n",
    "'J' : 0.0023,\n",
    "'K' : 0.0087,\n",
    "'L' : 0.0424,\n",
    "'M' : 0.0253,\n",
    "'N' : 0.0680,\n",
    "'O' : 0.0770,\n",
    "'P' : 0.0166,\n",
    "'Q' : 0.0009,\n",
    "'R' : 0.0568,\n",
    "'S' : 0.0611,\n",
    "'T' : 0.0937,\n",
    "'U' : 0.0285,\n",
    "'V' : 0.0106,\n",
    "'W' : 0.0234,\n",
    "'X' : 0.0020,\n",
    "'Y' : 0.0204,\n",
    "'Z' : 0.0006,\n",
    "}\n",
    "\n",
    "\n",
    "# Evaluate each output and chose the one with the best score. \n",
    "# done using Bhattacharyya distance\n",
    "# https://en.wikipedia.org/wiki/Bhattacharyya_distance\n",
    "\n",
    "def bhatt_dist(s):\n",
    "    '''\n",
    "    input: sentence\n",
    "    output: Bhattacharyya distance of a sentence. Value is between 0 and 1, where 0 is not English and 1 is English.\n",
    "    '''\n",
    "\n",
    "    total_chars = len(s)\n",
    "    count = Counter(s)  \n",
    "\n",
    "    coff = np.sum(np.sqrt(freqs.get(char, 0) * y/total_chars) for char, y in count.items())\n",
    "    return coff\n",
    "\n",
    "# iterate over each of the 256 bytes in combination with the string, and see which byte performs best.\n",
    "def decode_hex(s):\n",
    "    '''\n",
    "    input: hex encoded string\n",
    "    output: best score and sentence combination\n",
    "    '''\n",
    "    s1 = bytes.fromhex(s)\n",
    "    final_score = 0\n",
    "    final_sent = ''\n",
    "    for i in range(256):\n",
    "        keys = [i] * len(s)\n",
    "\n",
    "        xord  = [ x ^ y for x,y in zip(s1, keys)]\n",
    "        sent = bytes(xord)#.decode(\"utf-8\")\n",
    "\n",
    "        sent = sent.decode(\"utf-8\", errors='ignore')\n",
    "       \n",
    "\n",
    "\n",
    "        if bhatt_dist(sent) > final_score:\n",
    "            final_score = bhatt_dist(sent)\n",
    "            final_sent = sent\n",
    "\n",
    "    return final_score, final_sent\n",
    "\n",
    "\n",
    "decode_hex(ts1)"
   ]
  },
  {
   "cell_type": "code",
   "execution_count": 581,
   "metadata": {},
   "outputs": [
    {
     "name": "stdout",
     "output_type": "stream",
     "text": "0        7b5a4215415d544115415d5015455447414c155c46155f...\nscore                                             0.749954\nsent                        nOW\u0000THAT\u0000THE\u0000PARTY\u0000IS\u0000JUMPING*\nName: 170, dtype: object\n"
    }
   ],
   "source": [
    "import pandas as pd\n",
    "\n",
    "# One of the 60-character strings in this file[4.txt] has been encrypted by single-character XOR.\n",
    "data = pd.read_fwf('4.txt', header=None)\n",
    "\n",
    "data['score'] = data[0].apply(lambda x: decode_hex(x)[0])\n",
    "data['sent'] = data[0].apply(lambda x: decode_hex(x)[1])\n",
    "\n",
    "\n",
    "winner = data.iloc[data['score'].argmax()]\n",
    "print(winner)"
   ]
  },
  {
   "cell_type": "code",
   "execution_count": 584,
   "metadata": {},
   "outputs": [
    {
     "data": {
      "text/plain": "True"
     },
     "execution_count": 584,
     "metadata": {},
     "output_type": "execute_result"
    }
   ],
   "source": [
    "lines = [\"Burning 'em, if you ain't quick and nimble\\n\", \"I go crazy when I hear a cymbal\"]\n",
    "sent = str(\"\".join(lines))\n",
    "\n",
    "\n",
    "# Encrypt it, under the key \"ICE\", using repeating-key XOR.\n",
    "key = \"ICE\"\n",
    "# In repeating-key XOR, you'll sequentially apply each byte of the key; the first byte of plaintext will be XOR'd against I, the next C, the next E, then I again for the 4th byte, and so on.\n",
    "rep_key = key * len(sent)\n",
    "\n",
    "\n",
    "def repeat_key_XOR(s, keystring):\n",
    "    '''\n",
    "    input: sentence as string and a keystring \n",
    "    output: encrypted sentence\n",
    "    '''\n",
    "    s = bytearray(s, 'utf-8')\n",
    "    \n",
    "    keystring = bytes(keystring, 'utf-8')\n",
    "    sent = bytes([x^y for x,y in zip(s, keystring)])\n",
    "\n",
    "\n",
    "    return sent.hex()\n",
    "\n",
    "\n",
    "# It should come out to:\n",
    "result = \"0b3637272a2b2e63622c2e69692a23693a2a3c6324202d623d63343c2a26226324272765272a282b2f20430a652e2c652a3124333a653e2b2027630c692b20283165286326302e27282f\"\n",
    "\n",
    "# check if code works: \n",
    "repeat_key_XOR(sent, rep_key) == result"
   ]
  },
  {
   "cell_type": "code",
   "execution_count": 583,
   "metadata": {},
   "outputs": [],
   "source": [
    "# There's a file[6.txt] here. It's been base64'd after being encrypted with repeating-key XOR.\n",
    "# Decrypt it. Here's how:\n",
    "\n",
    "# 1. let KEYSIZE be the length of the key; try values from 2 to (say) 40\n",
    "\"\"\"for key in range(2, 40):\n",
    "    KEYSIZE = len(key)\"\"\"\n",
    "\n",
    "# 2. Write a function to compute the edit distance / Hamming distance between two strings. (hamming distance is the number of differing bits)\n",
    "# The distance between\n",
    "\n",
    "d_test1 = 'this is a test'\n",
    "# and \n",
    "d_test2 = 'wokka wokka!'\n",
    "# is 37. Make sure this is correct before you proceed. \n"
   ]
  },
  {
   "cell_type": "code",
   "execution_count": null,
   "metadata": {},
   "outputs": [],
   "source": []
  }
 ]
}